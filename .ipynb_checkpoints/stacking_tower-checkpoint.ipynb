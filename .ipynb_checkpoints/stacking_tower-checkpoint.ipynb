{
 "cells": [
  {
   "cell_type": "code",
   "execution_count": 1,
   "metadata": {},
   "outputs": [],
   "source": [
    "def memoize(func):\n",
    "    cache = dict()\n",
    "\n",
    "    def memoized_func(*args):\n",
    "        if args in cache:\n",
    "            return cache[args]\n",
    "        result = func(*args)\n",
    "        cache[args] = result\n",
    "        return result\n",
    "\n",
    "    return memoized_func"
   ]
  },
  {
   "cell_type": "code",
   "execution_count": 2,
   "metadata": {},
   "outputs": [],
   "source": [
    "def fibonacci(n):\n",
    "    if n == 0:\n",
    "        return 0\n",
    "    elif n == 1:\n",
    "        return 1\n",
    "    return fibonacci(n - 1) + fibonacci(n - 2)"
   ]
  },
  {
   "cell_type": "code",
   "execution_count": null,
   "metadata": {},
   "outputs": [],
   "source": [
    "memoized_fibonacci = memoize(fibonacci)"
   ]
  },
  {
   "cell_type": "markdown",
   "metadata": {},
   "source": [
    "# Factorial"
   ]
  },
  {
   "cell_type": "code",
   "execution_count": null,
   "metadata": {},
   "outputs": [],
   "source": [
    "# Simple recursive program to find factorial \n",
    "def facto(num): \n",
    "    if num == 1: \n",
    "        return 1\n",
    "    else: \n",
    "        return num * facto(num-1) \n",
    "          \n",
    "  \n",
    "print(facto(5)) "
   ]
  },
  {
   "cell_type": "code",
   "execution_count": 3,
   "metadata": {},
   "outputs": [
    {
     "name": "stdout",
     "output_type": "stream",
     "text": [
      "120\n"
     ]
    }
   ],
   "source": [
    "# Factorial program with memoization using \n",
    "# decorators. \n",
    "  \n",
    "# A decorator function for function 'f' passed \n",
    "# as parameter \n",
    "def memoize_factorial(f): \n",
    "    memory = {} \n",
    "  \n",
    "    # This inner function has access to memory \n",
    "    # and 'f' \n",
    "    def inner(num): \n",
    "        if num not in memory:          \n",
    "            memory[num] = f(num) \n",
    "        return memory[num] \n",
    "  \n",
    "    return inner \n",
    "      \n",
    "@memoize_factorial\n",
    "def facto(num): \n",
    "    if num == 1: \n",
    "        return 1\n",
    "    else: \n",
    "        return num * facto(num-1) \n",
    "  \n",
    "print(facto(5))"
   ]
  },
  {
   "cell_type": "code",
   "execution_count": null,
   "metadata": {},
   "outputs": [],
   "source": [
    "def memoize(f):\n",
    "    memo = {}\n",
    "    def helper(x):\n",
    "        if x not in memo:\n",
    "#             print(f'x {x}')\n",
    "            memo[x] = f(x)\n",
    "        return memo[x]\n",
    "    return helper\n",
    "    \n",
    "@memoize\n",
    "def fib(n):\n",
    "    print(f'n {n}')\n",
    "    if n == 0:\n",
    "        return 0\n",
    "    elif n == 1:\n",
    "        return 1\n",
    "    else:\n",
    "        return fib(n-1) + fib(n-2)\n",
    "\n",
    "\n",
    "def fibno(n):\n",
    "    print(f'n {n}')\n",
    "    if n == 0:\n",
    "        return 0\n",
    "    elif n == 1:\n",
    "        return 1\n",
    "    else:\n",
    "        return fibno(n-1) + fibno(n-2)    "
   ]
  },
  {
   "cell_type": "code",
   "execution_count": 85,
   "metadata": {},
   "outputs": [],
   "source": [
    "def memoize(f):\n",
    "    memo = {}\n",
    "    def helper(x,y):\n",
    "        if (x,y) not in memo:\n",
    "#             print(f'memo {x,y}')\n",
    "            memo[(x,y)] = f(x,y)\n",
    "        return memo[(x,y)]\n",
    "    return helper    \n",
    "    \n",
    "@memoize\n",
    "def tower(p, rings):\n",
    "    if p == 0:\n",
    "        n_seqs=1\n",
    "    elif p == 1:\n",
    "        n_seqs= 1 + len(rings)\n",
    "    else:\n",
    "        list_rings = list(rings)\n",
    "        n_seqs = 1\n",
    "        for r in list_rings:\n",
    "            remaining = tuple([s for s in list_rings if s!=r])\n",
    "            p_new = min(r,p) - 1\n",
    "            n_seqs += tower(p_new, remaining)\n",
    "#     print(p, rings, n_seqs)\n",
    "    return n_seqs"
   ]
  },
  {
   "cell_type": "code",
   "execution_count": 76,
   "metadata": {},
   "outputs": [
    {
     "data": {
      "text/plain": [
       "4"
      ]
     },
     "execution_count": 76,
     "metadata": {},
     "output_type": "execute_result"
    }
   ],
   "source": [
    "tower(2, (1,2))"
   ]
  },
  {
   "cell_type": "code",
   "execution_count": 78,
   "metadata": {},
   "outputs": [
    {
     "data": {
      "text/plain": [
       "7"
      ]
     },
     "execution_count": 78,
     "metadata": {},
     "output_type": "execute_result"
    }
   ],
   "source": [
    "tower(2, (1,2,3)) - 1"
   ]
  },
  {
   "cell_type": "code",
   "execution_count": 80,
   "metadata": {},
   "outputs": [
    {
     "data": {
      "text/plain": [
       "8"
      ]
     },
     "execution_count": 80,
     "metadata": {},
     "output_type": "execute_result"
    }
   ],
   "source": [
    "tower(3, (1,2,3)) - 1"
   ]
  },
  {
   "cell_type": "code",
   "execution_count": 81,
   "metadata": {},
   "outputs": [
    {
     "data": {
      "text/plain": [
       "8"
      ]
     },
     "execution_count": 81,
     "metadata": {},
     "output_type": "execute_result"
    }
   ],
   "source": [
    "n=3\n",
    "rings=tuple(range(1,n+1))\n",
    "tower(n, rings)-1"
   ]
  },
  {
   "cell_type": "code",
   "execution_count": 82,
   "metadata": {},
   "outputs": [
    {
     "name": "stdout",
     "output_type": "stream",
     "text": [
      "memo (4, (1, 2, 3, 4))\n",
      "memo (0, (2, 3, 4))\n",
      "memo (1, (1, 3, 4))\n",
      "memo (2, (1, 2, 4))\n",
      "memo (0, (2, 4))\n",
      "memo (1, (1, 4))\n"
     ]
    },
    {
     "data": {
      "text/plain": [
       "22"
      ]
     },
     "execution_count": 82,
     "metadata": {},
     "output_type": "execute_result"
    }
   ],
   "source": [
    "n=4\n",
    "rings=tuple(range(1,n+1))\n",
    "tower(n, rings)-1"
   ]
  },
  {
   "cell_type": "code",
   "execution_count": 83,
   "metadata": {},
   "outputs": [
    {
     "name": "stdout",
     "output_type": "stream",
     "text": [
      "memo (5, (1, 2, 3, 4, 5))\n",
      "memo (0, (2, 3, 4, 5))\n",
      "memo (1, (1, 3, 4, 5))\n",
      "memo (2, (1, 2, 4, 5))\n",
      "memo (0, (2, 4, 5))\n",
      "memo (1, (1, 4, 5))\n",
      "memo (1, (1, 2, 5))\n",
      "memo (1, (1, 2, 4))\n",
      "memo (3, (1, 2, 3, 5))\n",
      "memo (0, (2, 3, 5))\n",
      "memo (1, (1, 3, 5))\n",
      "memo (2, (1, 2, 5))\n",
      "memo (0, (2, 5))\n",
      "memo (1, (1, 5))\n"
     ]
    },
    {
     "data": {
      "text/plain": [
       "65"
      ]
     },
     "execution_count": 83,
     "metadata": {},
     "output_type": "execute_result"
    }
   ],
   "source": [
    "n=5\n",
    "rings=tuple(range(1,n+1))\n",
    "tower(n, rings)-1"
   ]
  },
  {
   "cell_type": "code",
   "execution_count": 87,
   "metadata": {},
   "outputs": [
    {
     "name": "stdout",
     "output_type": "stream",
     "text": [
      "1 : 1\n",
      "2 : 3\n",
      "3 : 8\n",
      "4 : 22\n",
      "5 : 65\n",
      "6 : 209\n",
      "7 : 732\n",
      "8 : 2780\n",
      "9 : 11377\n",
      "10 : 49863\n",
      "11 : 232768\n",
      "12 : 1151914\n",
      "13 : 6018785\n",
      "14 : 33087205\n",
      "15 : 190780212\n",
      "16 : 1150653920\n",
      "17 : 7241710929\n",
      "18 : 47454745803\n",
      "19 : 323154696184\n"
     ]
    }
   ],
   "source": [
    "for n in range(1,20):\n",
    "    rings=tuple(range(1,n+1))\n",
    "    count = tower(n, rings)-1\n",
    "    print(f'{n} : {count}')"
   ]
  },
  {
   "cell_type": "code",
   "execution_count": 90,
   "metadata": {},
   "outputs": [],
   "source": [
    "import pandas as pd\n",
    "import numpy as np"
   ]
  },
  {
   "cell_type": "code",
   "execution_count": 91,
   "metadata": {},
   "outputs": [
    {
     "data": {
      "text/plain": [
       "6"
      ]
     },
     "execution_count": 91,
     "metadata": {},
     "output_type": "execute_result"
    }
   ],
   "source": [
    "np.math.factorial(3)"
   ]
  },
  {
   "cell_type": "code",
   "execution_count": 159,
   "metadata": {},
   "outputs": [],
   "source": [
    "df_rings = pd.DataFrame({'n' : range(1,26)})\n",
    "df_rings['fac'] = [np.math.factorial(n) for n in df_rings['n']]"
   ]
  },
  {
   "cell_type": "code",
   "execution_count": 191,
   "metadata": {},
   "outputs": [],
   "source": [
    "df_rings['fac'] = df_rings['fac'].astype(float)"
   ]
  },
  {
   "cell_type": "code",
   "execution_count": 160,
   "metadata": {},
   "outputs": [],
   "source": [
    "df_rings['exp'] = np.exp(df_rings['n'])\n",
    "df_rings['exp10'] = 10.**(df_rings['n'])\n",
    "df_rings['exp4'] = 4.**(df_rings['n'])"
   ]
  },
  {
   "cell_type": "code",
   "execution_count": 171,
   "metadata": {},
   "outputs": [],
   "source": [
    "df_rings['eigen_power'] = df_rings['n'].astype(float)**(df_rings['n'])"
   ]
  },
  {
   "cell_type": "code",
   "execution_count": 161,
   "metadata": {},
   "outputs": [],
   "source": [
    "df_rings['count'] = [tower(n, tuple(range(1,n+1))) for n in df_rings['n']]"
   ]
  },
  {
   "cell_type": "code",
   "execution_count": 162,
   "metadata": {},
   "outputs": [],
   "source": [
    "df_rings['count'] = df_rings['count']-1"
   ]
  },
  {
   "cell_type": "code",
   "execution_count": 143,
   "metadata": {},
   "outputs": [
    {
     "data": {
      "text/plain": [
       "[1, 3, 5, 7, 9, 11, 13, 15, 17, 19]"
      ]
     },
     "execution_count": 143,
     "metadata": {},
     "output_type": "execute_result"
    }
   ],
   "source": [
    "list(range(1,20,2))"
   ]
  },
  {
   "cell_type": "code",
   "execution_count": null,
   "metadata": {},
   "outputs": [],
   "source": [
    "for n in range(1,20):\n",
    "    rings=tuple(range(1,n+1))\n",
    "    count = tower(n, rings)-1\n",
    "    print(f'{n} : {count}')"
   ]
  },
  {
   "cell_type": "code",
   "execution_count": 122,
   "metadata": {},
   "outputs": [],
   "source": [
    "df_rings['ratio_cf'] = df_rings['count']/df_rings['fac']\n",
    "df_rings['ratio_ce'] = df_rings['count']/df_rings['exp']\n",
    "df_rings['ratio_ce10'] = df_rings['count']/df_rings['exp10']\n",
    "df_rings['ratio_e_e10'] = df_rings['exp']/df_rings['exp10']"
   ]
  },
  {
   "cell_type": "code",
   "execution_count": 192,
   "metadata": {},
   "outputs": [
    {
     "data": {
      "text/html": [
       "<div>\n",
       "<style scoped>\n",
       "    .dataframe tbody tr th:only-of-type {\n",
       "        vertical-align: middle;\n",
       "    }\n",
       "\n",
       "    .dataframe tbody tr th {\n",
       "        vertical-align: top;\n",
       "    }\n",
       "\n",
       "    .dataframe thead th {\n",
       "        text-align: right;\n",
       "    }\n",
       "</style>\n",
       "<table border=\"1\" class=\"dataframe\">\n",
       "  <thead>\n",
       "    <tr style=\"text-align: right;\">\n",
       "      <th></th>\n",
       "      <th>n</th>\n",
       "      <th>fac</th>\n",
       "      <th>exp</th>\n",
       "      <th>exp10</th>\n",
       "      <th>exp4</th>\n",
       "      <th>count</th>\n",
       "      <th>eigen_power</th>\n",
       "      <th>multiple</th>\n",
       "    </tr>\n",
       "  </thead>\n",
       "  <tbody>\n",
       "    <tr>\n",
       "      <th>0</th>\n",
       "      <td>1</td>\n",
       "      <td>1.000000e+00</td>\n",
       "      <td>2.718282e+00</td>\n",
       "      <td>1.000000e+01</td>\n",
       "      <td>4.000000e+00</td>\n",
       "      <td>1</td>\n",
       "      <td>1.000000e+00</td>\n",
       "      <td>NaN</td>\n",
       "    </tr>\n",
       "    <tr>\n",
       "      <th>1</th>\n",
       "      <td>2</td>\n",
       "      <td>2.000000e+00</td>\n",
       "      <td>7.389056e+00</td>\n",
       "      <td>1.000000e+02</td>\n",
       "      <td>1.600000e+01</td>\n",
       "      <td>3</td>\n",
       "      <td>4.000000e+00</td>\n",
       "      <td>3.000000</td>\n",
       "    </tr>\n",
       "    <tr>\n",
       "      <th>2</th>\n",
       "      <td>3</td>\n",
       "      <td>6.000000e+00</td>\n",
       "      <td>2.008554e+01</td>\n",
       "      <td>1.000000e+03</td>\n",
       "      <td>6.400000e+01</td>\n",
       "      <td>8</td>\n",
       "      <td>2.700000e+01</td>\n",
       "      <td>2.666667</td>\n",
       "    </tr>\n",
       "    <tr>\n",
       "      <th>3</th>\n",
       "      <td>4</td>\n",
       "      <td>2.400000e+01</td>\n",
       "      <td>5.459815e+01</td>\n",
       "      <td>1.000000e+04</td>\n",
       "      <td>2.560000e+02</td>\n",
       "      <td>22</td>\n",
       "      <td>2.560000e+02</td>\n",
       "      <td>2.750000</td>\n",
       "    </tr>\n",
       "    <tr>\n",
       "      <th>4</th>\n",
       "      <td>5</td>\n",
       "      <td>1.200000e+02</td>\n",
       "      <td>1.484132e+02</td>\n",
       "      <td>1.000000e+05</td>\n",
       "      <td>1.024000e+03</td>\n",
       "      <td>65</td>\n",
       "      <td>3.125000e+03</td>\n",
       "      <td>2.954545</td>\n",
       "    </tr>\n",
       "    <tr>\n",
       "      <th>5</th>\n",
       "      <td>6</td>\n",
       "      <td>7.200000e+02</td>\n",
       "      <td>4.034288e+02</td>\n",
       "      <td>1.000000e+06</td>\n",
       "      <td>4.096000e+03</td>\n",
       "      <td>209</td>\n",
       "      <td>4.665600e+04</td>\n",
       "      <td>3.215385</td>\n",
       "    </tr>\n",
       "    <tr>\n",
       "      <th>6</th>\n",
       "      <td>7</td>\n",
       "      <td>5.040000e+03</td>\n",
       "      <td>1.096633e+03</td>\n",
       "      <td>1.000000e+07</td>\n",
       "      <td>1.638400e+04</td>\n",
       "      <td>732</td>\n",
       "      <td>8.235430e+05</td>\n",
       "      <td>3.502392</td>\n",
       "    </tr>\n",
       "    <tr>\n",
       "      <th>7</th>\n",
       "      <td>8</td>\n",
       "      <td>4.032000e+04</td>\n",
       "      <td>2.980958e+03</td>\n",
       "      <td>1.000000e+08</td>\n",
       "      <td>6.553600e+04</td>\n",
       "      <td>2780</td>\n",
       "      <td>1.677722e+07</td>\n",
       "      <td>3.797814</td>\n",
       "    </tr>\n",
       "    <tr>\n",
       "      <th>8</th>\n",
       "      <td>9</td>\n",
       "      <td>3.628800e+05</td>\n",
       "      <td>8.103084e+03</td>\n",
       "      <td>1.000000e+09</td>\n",
       "      <td>2.621440e+05</td>\n",
       "      <td>11377</td>\n",
       "      <td>3.874205e+08</td>\n",
       "      <td>4.092446</td>\n",
       "    </tr>\n",
       "    <tr>\n",
       "      <th>9</th>\n",
       "      <td>10</td>\n",
       "      <td>3.628800e+06</td>\n",
       "      <td>2.202647e+04</td>\n",
       "      <td>1.000000e+10</td>\n",
       "      <td>1.048576e+06</td>\n",
       "      <td>49863</td>\n",
       "      <td>1.000000e+10</td>\n",
       "      <td>4.382790</td>\n",
       "    </tr>\n",
       "    <tr>\n",
       "      <th>10</th>\n",
       "      <td>11</td>\n",
       "      <td>3.991680e+07</td>\n",
       "      <td>5.987414e+04</td>\n",
       "      <td>1.000000e+11</td>\n",
       "      <td>4.194304e+06</td>\n",
       "      <td>232768</td>\n",
       "      <td>2.853117e+11</td>\n",
       "      <td>4.668151</td>\n",
       "    </tr>\n",
       "    <tr>\n",
       "      <th>11</th>\n",
       "      <td>12</td>\n",
       "      <td>4.790016e+08</td>\n",
       "      <td>1.627548e+05</td>\n",
       "      <td>1.000000e+12</td>\n",
       "      <td>1.677722e+07</td>\n",
       "      <td>1151914</td>\n",
       "      <td>8.916100e+12</td>\n",
       "      <td>4.948764</td>\n",
       "    </tr>\n",
       "    <tr>\n",
       "      <th>12</th>\n",
       "      <td>13</td>\n",
       "      <td>6.227021e+09</td>\n",
       "      <td>4.424134e+05</td>\n",
       "      <td>1.000000e+13</td>\n",
       "      <td>6.710886e+07</td>\n",
       "      <td>6018785</td>\n",
       "      <td>3.028751e+14</td>\n",
       "      <td>5.225030</td>\n",
       "    </tr>\n",
       "    <tr>\n",
       "      <th>13</th>\n",
       "      <td>14</td>\n",
       "      <td>8.717829e+10</td>\n",
       "      <td>1.202604e+06</td>\n",
       "      <td>1.000000e+14</td>\n",
       "      <td>2.684355e+08</td>\n",
       "      <td>33087205</td>\n",
       "      <td>1.111201e+16</td>\n",
       "      <td>5.497323</td>\n",
       "    </tr>\n",
       "    <tr>\n",
       "      <th>14</th>\n",
       "      <td>15</td>\n",
       "      <td>1.307674e+12</td>\n",
       "      <td>3.269017e+06</td>\n",
       "      <td>1.000000e+15</td>\n",
       "      <td>1.073742e+09</td>\n",
       "      <td>190780212</td>\n",
       "      <td>4.378939e+17</td>\n",
       "      <td>5.765982</td>\n",
       "    </tr>\n",
       "    <tr>\n",
       "      <th>15</th>\n",
       "      <td>16</td>\n",
       "      <td>2.092279e+13</td>\n",
       "      <td>8.886111e+06</td>\n",
       "      <td>1.000000e+16</td>\n",
       "      <td>4.294967e+09</td>\n",
       "      <td>1150653920</td>\n",
       "      <td>1.844674e+19</td>\n",
       "      <td>6.031306</td>\n",
       "    </tr>\n",
       "    <tr>\n",
       "      <th>16</th>\n",
       "      <td>17</td>\n",
       "      <td>3.556874e+14</td>\n",
       "      <td>2.415495e+07</td>\n",
       "      <td>1.000000e+17</td>\n",
       "      <td>1.717987e+10</td>\n",
       "      <td>7241710929</td>\n",
       "      <td>8.272403e+20</td>\n",
       "      <td>6.293561</td>\n",
       "    </tr>\n",
       "    <tr>\n",
       "      <th>17</th>\n",
       "      <td>18</td>\n",
       "      <td>6.402374e+15</td>\n",
       "      <td>6.565997e+07</td>\n",
       "      <td>1.000000e+18</td>\n",
       "      <td>6.871948e+10</td>\n",
       "      <td>47454745803</td>\n",
       "      <td>3.934641e+22</td>\n",
       "      <td>6.552974</td>\n",
       "    </tr>\n",
       "    <tr>\n",
       "      <th>18</th>\n",
       "      <td>19</td>\n",
       "      <td>1.216451e+17</td>\n",
       "      <td>1.784823e+08</td>\n",
       "      <td>1.000000e+19</td>\n",
       "      <td>2.748779e+11</td>\n",
       "      <td>323154696184</td>\n",
       "      <td>1.978420e+24</td>\n",
       "      <td>6.809745</td>\n",
       "    </tr>\n",
       "    <tr>\n",
       "      <th>19</th>\n",
       "      <td>20</td>\n",
       "      <td>2.432902e+18</td>\n",
       "      <td>4.851652e+08</td>\n",
       "      <td>1.000000e+20</td>\n",
       "      <td>1.099512e+12</td>\n",
       "      <td>2282779990494</td>\n",
       "      <td>1.048576e+26</td>\n",
       "      <td>7.064047</td>\n",
       "    </tr>\n",
       "    <tr>\n",
       "      <th>20</th>\n",
       "      <td>21</td>\n",
       "      <td>5.109094e+19</td>\n",
       "      <td>1.318816e+09</td>\n",
       "      <td>1.000000e+21</td>\n",
       "      <td>4.398047e+12</td>\n",
       "      <td>16700904488705</td>\n",
       "      <td>5.842587e+27</td>\n",
       "      <td>7.316038</td>\n",
       "    </tr>\n",
       "    <tr>\n",
       "      <th>21</th>\n",
       "      <td>22</td>\n",
       "      <td>1.124001e+21</td>\n",
       "      <td>3.584913e+09</td>\n",
       "      <td>1.000000e+22</td>\n",
       "      <td>1.759219e+13</td>\n",
       "      <td>126356632390297</td>\n",
       "      <td>3.414279e+29</td>\n",
       "      <td>7.565856</td>\n",
       "    </tr>\n",
       "    <tr>\n",
       "      <th>22</th>\n",
       "      <td>23</td>\n",
       "      <td>2.585202e+22</td>\n",
       "      <td>9.744803e+09</td>\n",
       "      <td>1.000000e+23</td>\n",
       "      <td>7.036874e+13</td>\n",
       "      <td>987303454928972</td>\n",
       "      <td>2.088047e+31</td>\n",
       "      <td>7.813626</td>\n",
       "    </tr>\n",
       "    <tr>\n",
       "      <th>23</th>\n",
       "      <td>24</td>\n",
       "      <td>6.204484e+23</td>\n",
       "      <td>2.648912e+10</td>\n",
       "      <td>1.000000e+24</td>\n",
       "      <td>2.814750e+14</td>\n",
       "      <td>7957133905608836</td>\n",
       "      <td>1.333736e+33</td>\n",
       "      <td>8.059461</td>\n",
       "    </tr>\n",
       "    <tr>\n",
       "      <th>24</th>\n",
       "      <td>25</td>\n",
       "      <td>1.551121e+25</td>\n",
       "      <td>7.200490e+10</td>\n",
       "      <td>1.000000e+25</td>\n",
       "      <td>1.125900e+15</td>\n",
       "      <td>66071772829247409</td>\n",
       "      <td>8.881784e+34</td>\n",
       "      <td>8.303464</td>\n",
       "    </tr>\n",
       "  </tbody>\n",
       "</table>\n",
       "</div>"
      ],
      "text/plain": [
       "     n           fac           exp         exp10          exp4  \\\n",
       "0    1  1.000000e+00  2.718282e+00  1.000000e+01  4.000000e+00   \n",
       "1    2  2.000000e+00  7.389056e+00  1.000000e+02  1.600000e+01   \n",
       "2    3  6.000000e+00  2.008554e+01  1.000000e+03  6.400000e+01   \n",
       "3    4  2.400000e+01  5.459815e+01  1.000000e+04  2.560000e+02   \n",
       "4    5  1.200000e+02  1.484132e+02  1.000000e+05  1.024000e+03   \n",
       "5    6  7.200000e+02  4.034288e+02  1.000000e+06  4.096000e+03   \n",
       "6    7  5.040000e+03  1.096633e+03  1.000000e+07  1.638400e+04   \n",
       "7    8  4.032000e+04  2.980958e+03  1.000000e+08  6.553600e+04   \n",
       "8    9  3.628800e+05  8.103084e+03  1.000000e+09  2.621440e+05   \n",
       "9   10  3.628800e+06  2.202647e+04  1.000000e+10  1.048576e+06   \n",
       "10  11  3.991680e+07  5.987414e+04  1.000000e+11  4.194304e+06   \n",
       "11  12  4.790016e+08  1.627548e+05  1.000000e+12  1.677722e+07   \n",
       "12  13  6.227021e+09  4.424134e+05  1.000000e+13  6.710886e+07   \n",
       "13  14  8.717829e+10  1.202604e+06  1.000000e+14  2.684355e+08   \n",
       "14  15  1.307674e+12  3.269017e+06  1.000000e+15  1.073742e+09   \n",
       "15  16  2.092279e+13  8.886111e+06  1.000000e+16  4.294967e+09   \n",
       "16  17  3.556874e+14  2.415495e+07  1.000000e+17  1.717987e+10   \n",
       "17  18  6.402374e+15  6.565997e+07  1.000000e+18  6.871948e+10   \n",
       "18  19  1.216451e+17  1.784823e+08  1.000000e+19  2.748779e+11   \n",
       "19  20  2.432902e+18  4.851652e+08  1.000000e+20  1.099512e+12   \n",
       "20  21  5.109094e+19  1.318816e+09  1.000000e+21  4.398047e+12   \n",
       "21  22  1.124001e+21  3.584913e+09  1.000000e+22  1.759219e+13   \n",
       "22  23  2.585202e+22  9.744803e+09  1.000000e+23  7.036874e+13   \n",
       "23  24  6.204484e+23  2.648912e+10  1.000000e+24  2.814750e+14   \n",
       "24  25  1.551121e+25  7.200490e+10  1.000000e+25  1.125900e+15   \n",
       "\n",
       "                count   eigen_power  multiple  \n",
       "0                   1  1.000000e+00       NaN  \n",
       "1                   3  4.000000e+00  3.000000  \n",
       "2                   8  2.700000e+01  2.666667  \n",
       "3                  22  2.560000e+02  2.750000  \n",
       "4                  65  3.125000e+03  2.954545  \n",
       "5                 209  4.665600e+04  3.215385  \n",
       "6                 732  8.235430e+05  3.502392  \n",
       "7                2780  1.677722e+07  3.797814  \n",
       "8               11377  3.874205e+08  4.092446  \n",
       "9               49863  1.000000e+10  4.382790  \n",
       "10             232768  2.853117e+11  4.668151  \n",
       "11            1151914  8.916100e+12  4.948764  \n",
       "12            6018785  3.028751e+14  5.225030  \n",
       "13           33087205  1.111201e+16  5.497323  \n",
       "14          190780212  4.378939e+17  5.765982  \n",
       "15         1150653920  1.844674e+19  6.031306  \n",
       "16         7241710929  8.272403e+20  6.293561  \n",
       "17        47454745803  3.934641e+22  6.552974  \n",
       "18       323154696184  1.978420e+24  6.809745  \n",
       "19      2282779990494  1.048576e+26  7.064047  \n",
       "20     16700904488705  5.842587e+27  7.316038  \n",
       "21    126356632390297  3.414279e+29  7.565856  \n",
       "22    987303454928972  2.088047e+31  7.813626  \n",
       "23   7957133905608836  1.333736e+33  8.059461  \n",
       "24  66071772829247409  8.881784e+34  8.303464  "
      ]
     },
     "execution_count": 192,
     "metadata": {},
     "output_type": "execute_result"
    }
   ],
   "source": [
    "df_rings"
   ]
  },
  {
   "cell_type": "code",
   "execution_count": 193,
   "metadata": {},
   "outputs": [],
   "source": [
    "df_rings['multiple'] = df_rings['count']/df_rings['count'].shift()"
   ]
  },
  {
   "cell_type": "code",
   "execution_count": 200,
   "metadata": {},
   "outputs": [],
   "source": [
    "long_rings = pd.melt(df_rings, id_vars='n', value_vars=['fac','count',\n",
    "#                                                         'eigen_power',\n",
    "                                                        'exp','exp10','exp4'])"
   ]
  },
  {
   "cell_type": "code",
   "execution_count": 182,
   "metadata": {},
   "outputs": [],
   "source": [
    "import plotnine as pn"
   ]
  },
  {
   "cell_type": "code",
   "execution_count": 201,
   "metadata": {},
   "outputs": [
    {
     "data": {
      "image/png": "[encoded data removed]",
      "text/plain": [
       "<Figure size 640x480 with 1 Axes>"
      ]
     },
     "metadata": {},
     "output_type": "display_data"
    },
    {
     "data": {
      "text/plain": [
       "<ggplot: (8771391261749)>"
      ]
     },
     "execution_count": 201,
     "metadata": {},
     "output_type": "execute_result"
    }
   ],
   "source": [
    "pn.ggplot(long_rings, pn.aes(x='n', y='value', color='variable')) + pn.geom_line() + pn.scale_y_log10()"
   ]
  },
  {
   "cell_type": "code",
   "execution_count": 202,
   "metadata": {
    "collapsed": true
   },
   "outputs": [
    {
     "data": {
      "image/png": "[encoded data removed]",
      "text/plain": [
       "<Figure size 640x480 with 1 Axes>"
      ]
     },
     "metadata": {},
     "output_type": "display_data"
    },
    {
     "data": {
      "text/plain": [
       "<ggplot: (8771271961401)>"
      ]
     },
     "execution_count": 202,
     "metadata": {},
     "output_type": "execute_result"
    }
   ],
   "source": [
    "pn.ggplot(df_rings, pn.aes(x='n', y='fac')) + pn.geom_line() + pn.scale_y_log10()"
   ]
  },
  {
   "cell_type": "code",
   "execution_count": 203,
   "metadata": {},
   "outputs": [
    {
     "name": "stderr",
     "output_type": "stream",
     "text": [
      "/Users/kurtsmith/miniconda3/lib/python3.7/site-packages/plotnine/geoms/geom_path.py:75: PlotnineWarning: geom_path: Removed 1 rows containing missing values.\n",
      "/Users/kurtsmith/miniconda3/lib/python3.7/site-packages/plotnine/layer.py:464: PlotnineWarning: geom_point : Removed 1 rows containing missing values.\n"
     ]
    },
    {
     "data": {
      "image/png": "[encoded data removed]",
      "text/plain": [
       "<Figure size 640x480 with 1 Axes>"
      ]
     },
     "metadata": {},
     "output_type": "display_data"
    },
    {
     "data": {
      "text/plain": [
       "<ggplot: (8771309982165)>"
      ]
     },
     "execution_count": 203,
     "metadata": {},
     "output_type": "execute_result"
    }
   ],
   "source": [
    "pn.ggplot(df_rings, pn.aes(x='n', y='multiple')) + pn.geom_line() + pn.geom_point() #+ pn.scale_y_log10()"
   ]
  },
  {
   "cell_type": "code",
   "execution_count": 170,
   "metadata": {},
   "outputs": [
    {
     "data": {
      "image/png": "[encoded data removed]",
      "text/plain": [
       "<Figure size 640x480 with 1 Axes>"
      ]
     },
     "metadata": {},
     "output_type": "display_data"
    },
    {
     "data": {
      "text/plain": [
       "<ggplot: (8771271963721)>"
      ]
     },
     "execution_count": 170,
     "metadata": {},
     "output_type": "execute_result"
    }
   ],
   "source": [
    "pn.ggplot(df_rings, pn.aes(x='n', y='exp')) + pn.geom_line() + pn.scale_y_log10()"
   ]
  },
  {
   "cell_type": "code",
   "execution_count": 106,
   "metadata": {},
   "outputs": [
    {
     "data": {
      "image/png": "[encoded data removed]",
      "text/plain": [
       "<Figure size 640x480 with 1 Axes>"
      ]
     },
     "metadata": {},
     "output_type": "display_data"
    },
    {
     "data": {
      "text/plain": [
       "<ggplot: (8771271954753)>"
      ]
     },
     "execution_count": 106,
     "metadata": {},
     "output_type": "execute_result"
    }
   ],
   "source": [
    "pn.ggplot(df_rings, pn.aes(x='n', y='count')) + pn.geom_line() + pn.scale_y_log10()"
   ]
  }
 ],
 "metadata": {
  "kernelspec": {
   "display_name": "Python 3",
   "language": "python",
   "name": "python3"
  },
  "language_info": {
   "codemirror_mode": {
    "name": "ipython",
    "version": 3
   },
   "file_extension": ".py",
   "mimetype": "text/x-python",
   "name": "python",
   "nbconvert_exporter": "python",
   "pygments_lexer": "ipython3",
   "version": "3.7.7"
  }
 },
 "nbformat": 4,
 "nbformat_minor": 4
}
